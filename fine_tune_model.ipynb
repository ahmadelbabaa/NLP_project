{
 "cells": [
  {
   "cell_type": "code",
   "execution_count": 1,
   "id": "3c72577d-9aa6-4965-a975-62977bfb7fe3",
   "metadata": {},
   "outputs": [],
   "source": [
    "import os\n",
    "os.environ[\"TOKENIZERS_PARALLELISM\"] = \"false\"\n",
    "import pandas as pd\n",
    "import numpy as np\n",
    "from sklearn.metrics.pairwise import cosine_similarity\n",
    "from sentence_transformers import SentenceTransformer, InputExample, evaluation, losses\n",
    "from torch.utils.data import DataLoader\n",
    "from sklearn.model_selection import train_test_split"
   ]
  },
  {
   "cell_type": "code",
   "execution_count": 2,
   "id": "bdd0ce06-0624-48fc-a5e6-1b9f5cbad21f",
   "metadata": {},
   "outputs": [],
   "source": [
    "# Load cleaned job descriptions and resumes (provided by Person 1)\n",
    "job_df = pd.read_csv('/Users/apsarasrinivasan/Downloads/job_descriptions.csv')\n",
    "resume_df = pd.read_csv('/Users/apsarasrinivasan/Downloads/resumes.csv')"
   ]
  },
  {
   "cell_type": "code",
   "execution_count": 3,
   "id": "214b02a5-a809-41c5-bf98-932f37cad308",
   "metadata": {},
   "outputs": [],
   "source": [
    "# Combine job description text\n",
    "job_df['combined_text'] = job_df[['Company_Overview', \n",
    "                                  'Responsibilities', \n",
    "                                  'Required_Qualifications', \n",
    "                                  'Preferred_Qualifications']].fillna('').agg(' '.join, axis=1)\n",
    "\n",
    "# Combine resume text\n",
    "resume_df['combined_text'] = resume_df[['Professional_Summary', \n",
    "                                        'Work_Experience', \n",
    "                                        'Projects', \n",
    "                                        'Certifications', \n",
    "                                        'Education', \n",
    "                                        'Skills']].fillna('').agg(' '.join, axis=1)"
   ]
  },
  {
   "cell_type": "code",
   "execution_count": 4,
   "id": "f90cac6c-6cf9-422d-9e88-160dad62cff2",
   "metadata": {},
   "outputs": [
    {
     "data": {
      "application/vnd.jupyter.widget-view+json": {
       "model_id": "1e4ce56d7b534ecc8c7814dd56fe74ec",
       "version_major": 2,
       "version_minor": 0
      },
      "text/plain": [
       "Downloading .gitattributes:   0%|          | 0.00/1.23k [00:00<?, ?B/s]"
      ]
     },
     "metadata": {},
     "output_type": "display_data"
    },
    {
     "data": {
      "application/vnd.jupyter.widget-view+json": {
       "model_id": "f1e02f339b9c4a26aa4bbd33285e0211",
       "version_major": 2,
       "version_minor": 0
      },
      "text/plain": [
       "Downloading config.json:   0%|          | 0.00/190 [00:00<?, ?B/s]"
      ]
     },
     "metadata": {},
     "output_type": "display_data"
    },
    {
     "data": {
      "application/vnd.jupyter.widget-view+json": {
       "model_id": "2de41775d64243cda7be26e1e040d151",
       "version_major": 2,
       "version_minor": 0
      },
      "text/plain": [
       "Downloading README.md:   0%|          | 0.00/10.5k [00:00<?, ?B/s]"
      ]
     },
     "metadata": {},
     "output_type": "display_data"
    },
    {
     "data": {
      "application/vnd.jupyter.widget-view+json": {
       "model_id": "7ba86963c1bf491e8c26b1377fa05c25",
       "version_major": 2,
       "version_minor": 0
      },
      "text/plain": [
       "Downloading config.json:   0%|          | 0.00/612 [00:00<?, ?B/s]"
      ]
     },
     "metadata": {},
     "output_type": "display_data"
    },
    {
     "data": {
      "application/vnd.jupyter.widget-view+json": {
       "model_id": "0476436342434467a4132be8b2f729f2",
       "version_major": 2,
       "version_minor": 0
      },
      "text/plain": [
       "Downloading (…)ce_transformers.json:   0%|          | 0.00/116 [00:00<?, ?B/s]"
      ]
     },
     "metadata": {},
     "output_type": "display_data"
    },
    {
     "data": {
      "application/vnd.jupyter.widget-view+json": {
       "model_id": "a9a39b95979e4c978f7f9a48c922a094",
       "version_major": 2,
       "version_minor": 0
      },
      "text/plain": [
       "Downloading data_config.json:   0%|          | 0.00/39.3k [00:00<?, ?B/s]"
      ]
     },
     "metadata": {},
     "output_type": "display_data"
    },
    {
     "data": {
      "application/vnd.jupyter.widget-view+json": {
       "model_id": "3a44a4cfb4c545e9b3b563771bf50cd7",
       "version_major": 2,
       "version_minor": 0
      },
      "text/plain": [
       "Downloading model.safetensors:   0%|          | 0.00/90.9M [00:00<?, ?B/s]"
      ]
     },
     "metadata": {},
     "output_type": "display_data"
    },
    {
     "data": {
      "application/vnd.jupyter.widget-view+json": {
       "model_id": "f4a36b0cb2c64a48a28b6eff1cc1964d",
       "version_major": 2,
       "version_minor": 0
      },
      "text/plain": [
       "Downloading model.onnx:   0%|          | 0.00/90.4M [00:00<?, ?B/s]"
      ]
     },
     "metadata": {},
     "output_type": "display_data"
    },
    {
     "data": {
      "application/vnd.jupyter.widget-view+json": {
       "model_id": "cafaabef16de4cd2a3359dad4a30eb9d",
       "version_major": 2,
       "version_minor": 0
      },
      "text/plain": [
       "Downloading model_O1.onnx:   0%|          | 0.00/90.4M [00:00<?, ?B/s]"
      ]
     },
     "metadata": {},
     "output_type": "display_data"
    },
    {
     "data": {
      "application/vnd.jupyter.widget-view+json": {
       "model_id": "ef18912818614da996bcb2203d8b06e0",
       "version_major": 2,
       "version_minor": 0
      },
      "text/plain": [
       "Downloading model_O2.onnx:   0%|          | 0.00/90.3M [00:00<?, ?B/s]"
      ]
     },
     "metadata": {},
     "output_type": "display_data"
    },
    {
     "data": {
      "application/vnd.jupyter.widget-view+json": {
       "model_id": "f534b1bc3dde405281d13eff00a48278",
       "version_major": 2,
       "version_minor": 0
      },
      "text/plain": [
       "Downloading model_O3.onnx:   0%|          | 0.00/90.3M [00:00<?, ?B/s]"
      ]
     },
     "metadata": {},
     "output_type": "display_data"
    },
    {
     "data": {
      "application/vnd.jupyter.widget-view+json": {
       "model_id": "794f080919d24c80808e08d5e905ecc7",
       "version_major": 2,
       "version_minor": 0
      },
      "text/plain": [
       "Downloading model_O4.onnx:   0%|          | 0.00/45.2M [00:00<?, ?B/s]"
      ]
     },
     "metadata": {},
     "output_type": "display_data"
    },
    {
     "data": {
      "application/vnd.jupyter.widget-view+json": {
       "model_id": "b09dcbdca53644278902a8f97fe3aead",
       "version_major": 2,
       "version_minor": 0
      },
      "text/plain": [
       "Downloading model_qint8_arm64.onnx:   0%|          | 0.00/23.0M [00:00<?, ?B/s]"
      ]
     },
     "metadata": {},
     "output_type": "display_data"
    },
    {
     "data": {
      "application/vnd.jupyter.widget-view+json": {
       "model_id": "22f5dee2e13846309ea1724f39024759",
       "version_major": 2,
       "version_minor": 0
      },
      "text/plain": [
       "Downloading (…)el_qint8_avx512.onnx:   0%|          | 0.00/23.0M [00:00<?, ?B/s]"
      ]
     },
     "metadata": {},
     "output_type": "display_data"
    },
    {
     "data": {
      "application/vnd.jupyter.widget-view+json": {
       "model_id": "1fd71cdd1dd043a3bab970496b40e144",
       "version_major": 2,
       "version_minor": 0
      },
      "text/plain": [
       "Downloading (…)nt8_avx512_vnni.onnx:   0%|          | 0.00/23.0M [00:00<?, ?B/s]"
      ]
     },
     "metadata": {},
     "output_type": "display_data"
    },
    {
     "data": {
      "application/vnd.jupyter.widget-view+json": {
       "model_id": "3e2bfd48b4244e4abcc72900a25331c5",
       "version_major": 2,
       "version_minor": 0
      },
      "text/plain": [
       "Downloading model_quint8_avx2.onnx:   0%|          | 0.00/23.0M [00:00<?, ?B/s]"
      ]
     },
     "metadata": {},
     "output_type": "display_data"
    },
    {
     "data": {
      "application/vnd.jupyter.widget-view+json": {
       "model_id": "4f2402ee9a594dc99be0b5433b49ae71",
       "version_major": 2,
       "version_minor": 0
      },
      "text/plain": [
       "Downloading openvino_model.bin:   0%|          | 0.00/90.3M [00:00<?, ?B/s]"
      ]
     },
     "metadata": {},
     "output_type": "display_data"
    },
    {
     "data": {
      "application/vnd.jupyter.widget-view+json": {
       "model_id": "9ae300b660cb460dbcb9506cf7339be6",
       "version_major": 2,
       "version_minor": 0
      },
      "text/plain": [
       "Downloading openvino_model.xml:   0%|          | 0.00/211k [00:00<?, ?B/s]"
      ]
     },
     "metadata": {},
     "output_type": "display_data"
    },
    {
     "data": {
      "application/vnd.jupyter.widget-view+json": {
       "model_id": "05cf718f20f7426e8dd6a9228524ddfd",
       "version_major": 2,
       "version_minor": 0
      },
      "text/plain": [
       "Downloading (…)_qint8_quantized.bin:   0%|          | 0.00/22.9M [00:00<?, ?B/s]"
      ]
     },
     "metadata": {},
     "output_type": "display_data"
    },
    {
     "data": {
      "application/vnd.jupyter.widget-view+json": {
       "model_id": "dcd04fa055ec4f909a886e005ceef335",
       "version_major": 2,
       "version_minor": 0
      },
      "text/plain": [
       "Downloading (…)_qint8_quantized.xml:   0%|          | 0.00/368k [00:00<?, ?B/s]"
      ]
     },
     "metadata": {},
     "output_type": "display_data"
    },
    {
     "data": {
      "application/vnd.jupyter.widget-view+json": {
       "model_id": "a0366e206e4046acae34ae3d0f0d2579",
       "version_major": 2,
       "version_minor": 0
      },
      "text/plain": [
       "Downloading pytorch_model.bin:   0%|          | 0.00/90.9M [00:00<?, ?B/s]"
      ]
     },
     "metadata": {},
     "output_type": "display_data"
    },
    {
     "data": {
      "application/vnd.jupyter.widget-view+json": {
       "model_id": "4ca2543a81cf4b23a5139f604e0ef7ca",
       "version_major": 2,
       "version_minor": 0
      },
      "text/plain": [
       "Downloading (…)nce_bert_config.json:   0%|          | 0.00/53.0 [00:00<?, ?B/s]"
      ]
     },
     "metadata": {},
     "output_type": "display_data"
    },
    {
     "data": {
      "application/vnd.jupyter.widget-view+json": {
       "model_id": "4a9854ceaf53498cbe987a93b7ddd2b0",
       "version_major": 2,
       "version_minor": 0
      },
      "text/plain": [
       "Downloading (…)cial_tokens_map.json:   0%|          | 0.00/112 [00:00<?, ?B/s]"
      ]
     },
     "metadata": {},
     "output_type": "display_data"
    },
    {
     "data": {
      "application/vnd.jupyter.widget-view+json": {
       "model_id": "edc631fa37174266976a7998c2dd325e",
       "version_major": 2,
       "version_minor": 0
      },
      "text/plain": [
       "Downloading tokenizer.json:   0%|          | 0.00/466k [00:00<?, ?B/s]"
      ]
     },
     "metadata": {},
     "output_type": "display_data"
    },
    {
     "data": {
      "application/vnd.jupyter.widget-view+json": {
       "model_id": "6e3cf2daa42e4eda86ecb2f38c904eaa",
       "version_major": 2,
       "version_minor": 0
      },
      "text/plain": [
       "Downloading tokenizer_config.json:   0%|          | 0.00/350 [00:00<?, ?B/s]"
      ]
     },
     "metadata": {},
     "output_type": "display_data"
    },
    {
     "data": {
      "application/vnd.jupyter.widget-view+json": {
       "model_id": "8d57189e94df46d0b463b1d89370cd99",
       "version_major": 2,
       "version_minor": 0
      },
      "text/plain": [
       "Downloading train_script.py:   0%|          | 0.00/13.2k [00:00<?, ?B/s]"
      ]
     },
     "metadata": {},
     "output_type": "display_data"
    },
    {
     "data": {
      "application/vnd.jupyter.widget-view+json": {
       "model_id": "dc9afba177364840b90a93dcf869b533",
       "version_major": 2,
       "version_minor": 0
      },
      "text/plain": [
       "Downloading vocab.txt:   0%|          | 0.00/232k [00:00<?, ?B/s]"
      ]
     },
     "metadata": {},
     "output_type": "display_data"
    },
    {
     "data": {
      "application/vnd.jupyter.widget-view+json": {
       "model_id": "c76faa1770f6406098fc0d32894e2b75",
       "version_major": 2,
       "version_minor": 0
      },
      "text/plain": [
       "Downloading modules.json:   0%|          | 0.00/349 [00:00<?, ?B/s]"
      ]
     },
     "metadata": {},
     "output_type": "display_data"
    }
   ],
   "source": [
    "# Load Sentence-BERT model\n",
    "model = SentenceTransformer('all-MiniLM-L6-v2')\n",
    "\n",
    "# Generate embeddings\n",
    "resume_embeddings = model.encode(resume_df['combined_text'].tolist(), convert_to_tensor=True)\n",
    "job_embeddings = model.encode(job_df['combined_text'].tolist(), convert_to_tensor=True)\n",
    "\n",
    "# Convert to NumPy arrays for cosine similarity\n",
    "resume_embeddings_np = resume_embeddings.cpu().numpy()\n",
    "job_embeddings_np = job_embeddings.cpu().numpy()"
   ]
  },
  {
   "cell_type": "code",
   "execution_count": 5,
   "id": "4fbaf62a-fffb-4402-91c2-898aedacdafe",
   "metadata": {},
   "outputs": [],
   "source": [
    "# Compute cosine similarity matrix\n",
    "similarity_matrix = cosine_similarity(resume_embeddings_np, job_embeddings_np)"
   ]
  },
  {
   "cell_type": "code",
   "execution_count": 6,
   "id": "e21f5569-d394-4945-82b9-7005e78ac5a1",
   "metadata": {},
   "outputs": [],
   "source": [
    "# Create similarity DataFrame\n",
    "similarity_df = pd.DataFrame(similarity_matrix, index=resume_df['ID'], columns=job_df['ID'])"
   ]
  },
  {
   "cell_type": "code",
   "execution_count": 7,
   "id": "e007ea5c-099f-4ccf-8114-1a5c282b6bb3",
   "metadata": {},
   "outputs": [],
   "source": [
    "# Build training dataset (positive matches only)\n",
    "train_examples_all = []\n",
    "\n",
    "for job_id in job_df['ID']:\n",
    "    top_resumes = similarity_df[job_id].sort_values(ascending=False).head(3).index.tolist()\n",
    "    job_text = job_df[job_df['ID'] == job_id]['combined_text'].values[0]\n",
    "    for resume_id in top_resumes:\n",
    "        resume_text = resume_df[resume_df['ID'] == resume_id]['combined_text'].values[0]\n",
    "        train_examples_all.append(InputExample(texts=[resume_text, job_text], label=1.0))"
   ]
  },
  {
   "cell_type": "code",
   "execution_count": 8,
   "id": "5bb99e52-3253-4cbb-a16a-9839a7339f3f",
   "metadata": {},
   "outputs": [],
   "source": [
    "# Add random negative examples\n",
    "for _ in range(len(train_examples_all)):\n",
    "    rand_resume = resume_df.sample(1).iloc[0]\n",
    "    rand_job = job_df.sample(1).iloc[0]\n",
    "    train_examples_all.append(InputExample(texts=[rand_resume['combined_text'], rand_job['combined_text']], label=0.0))"
   ]
  },
  {
   "cell_type": "code",
   "execution_count": 9,
   "id": "8cb71b89-b9dc-41b1-a2a2-acdbc15fb60f",
   "metadata": {},
   "outputs": [],
   "source": [
    "# Split into training and test sets\n",
    "train_examples, test_examples = train_test_split(train_examples_all, test_size=0.2, random_state=42)"
   ]
  },
  {
   "cell_type": "code",
   "execution_count": 10,
   "id": "d7959332-b7d0-48ee-97d1-a0095ee3a0ea",
   "metadata": {},
   "outputs": [],
   "source": [
    "# Create DataLoader and define loss\n",
    "train_dataloader = DataLoader(train_examples, shuffle=True, batch_size=16)\n",
    "train_loss = losses.CosineSimilarityLoss(model)"
   ]
  },
  {
   "cell_type": "code",
   "execution_count": 11,
   "id": "70cfc80f-ca63-424c-951e-a7aae5b6439f",
   "metadata": {
    "scrolled": true
   },
   "outputs": [
    {
     "data": {
      "application/vnd.jupyter.widget-view+json": {
       "model_id": "3bb2bcaef2394252aa46162cebee3aa0",
       "version_major": 2,
       "version_minor": 0
      },
      "text/plain": [
       "Epoch:   0%|          | 0/2 [00:00<?, ?it/s]"
      ]
     },
     "metadata": {},
     "output_type": "display_data"
    },
    {
     "data": {
      "application/vnd.jupyter.widget-view+json": {
       "model_id": "8e216937068f4c2e92f94d97bdc939ac",
       "version_major": 2,
       "version_minor": 0
      },
      "text/plain": [
       "Iteration:   0%|          | 0/1500 [00:00<?, ?it/s]"
      ]
     },
     "metadata": {},
     "output_type": "display_data"
    },
    {
     "data": {
      "application/vnd.jupyter.widget-view+json": {
       "model_id": "30e63c608eb04879898c73f26f31b151",
       "version_major": 2,
       "version_minor": 0
      },
      "text/plain": [
       "Iteration:   0%|          | 0/1500 [00:00<?, ?it/s]"
      ]
     },
     "metadata": {},
     "output_type": "display_data"
    }
   ],
   "source": [
    "# Fine-tune the model\n",
    "model.fit(train_objectives=[(train_dataloader, train_loss)], epochs=2, warmup_steps=100)\n",
    "\n",
    "# Save the fine-tuned model\n",
    "model.save('/Users/apsarasrinivasan/fine_tuned_cv_model')"
   ]
  },
  {
   "cell_type": "code",
   "execution_count": 12,
   "id": "f4b25ca8-2c27-4615-b5b7-03b777ebb485",
   "metadata": {},
   "outputs": [
    {
     "data": {
      "text/plain": [
       "np.float64(0.8561226942850587)"
      ]
     },
     "execution_count": 12,
     "metadata": {},
     "output_type": "execute_result"
    }
   ],
   "source": [
    "# Evaluate on test set\n",
    "evaluator = evaluation.EmbeddingSimilarityEvaluator.from_input_examples(test_examples)\n",
    "model.evaluate(evaluator)"
   ]
  },
  {
   "cell_type": "code",
   "execution_count": 13,
   "id": "57a44b6f-e6c0-4e32-a87f-15324c252fa3",
   "metadata": {},
   "outputs": [],
   "source": [
    "# Generate top-5 ranked resumes per job\n",
    "all_rankings = []\n",
    "\n",
    "for job_id in job_df['ID']:\n",
    "    ranked = similarity_df[job_id].sort_values(ascending=False).reset_index()\n",
    "    ranked.columns = ['Resume_ID', 'Similarity_Score']\n",
    "    ranked['Job_ID'] = job_id\n",
    "    top_ranked = ranked.head(5)\n",
    "    all_rankings.append(top_ranked)\n",
    "\n",
    "combined_df = pd.concat(all_rankings, ignore_index=True)\n",
    "combined_df = combined_df[['Job_ID', 'Resume_ID', 'Similarity_Score']]"
   ]
  }
 ],
 "metadata": {
  "kernelspec": {
   "display_name": "Python 3 (ipykernel)",
   "language": "python",
   "name": "python3"
  },
  "language_info": {
   "codemirror_mode": {
    "name": "ipython",
    "version": 3
   },
   "file_extension": ".py",
   "mimetype": "text/x-python",
   "name": "python",
   "nbconvert_exporter": "python",
   "pygments_lexer": "ipython3",
   "version": "3.10.16"
  }
 },
 "nbformat": 4,
 "nbformat_minor": 5
}
